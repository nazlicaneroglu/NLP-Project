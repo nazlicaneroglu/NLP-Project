{
 "cells": [
  {
   "cell_type": "markdown",
   "metadata": {},
   "source": [
    "# **NLP course  -   Research Master Business Data Science**\n",
    "\n",
    "*by Meike Morren and Bas Donkers*\n",
    "\n",
    "Inspired by: \n",
    "* https://www.depends-on-the-definition.com/introduction-n-gram-language-models/ (spaCy)\n",
    "* https://www.analyticsvidhya.com/blog/2018/02/natural-language-processing-for-beginners-using-textblob/ (textblob)\n",
    "* http://rwet.decontextualize.com/book/textblob/ (textblob and wordnet)\n",
    "* https://towardsdatascience.com/fine-grained-sentiment-analysis-in-python-part-1-2697bb111ed4 (overview sentiment analysis)"
   ]
  },
  {
   "cell_type": "markdown",
   "metadata": {},
   "source": [
    "This week, we will analyze the sentences gathered in week 1. The main goal is to show you how to use python to analyze N-grams and sentiment of the reviews. "
   ]
  },
  {
   "cell_type": "code",
   "execution_count": 2,
   "metadata": {},
   "outputs": [],
   "source": [
    "# before we start, retrieve data from other notebook\n",
    "%store -r df_sent"
   ]
  },
  {
   "cell_type": "markdown",
   "metadata": {},
   "source": [
    "## N-grams\n",
    "We will work with `TextBlob` which builds on `NLTK` and `pattern`, but there are many other packages available (see for instance `spaCy`). In order to analyze text, we need to break down the sentences. This way, we can easily check whether sentence parts are frequently used or not. The most simple N-gram is the unigram, where each word is analyzed separately. \n",
    "So to calculate the probability of word $w_{i}$ given the other words $w$ in a sentence, you would use this formula:\n",
    "\n",
    "\\begin{equation*}\n",
    "    {P}(w_{i} \\vert w_{i-n},...,w_{i-2},w_{i-1}) = \\frac{Count(w_{i-n}...w_{i-2}w_{i-1}w_{i})}{Count(w_{i})}\n",
    "    %{P}(w_{1}^{n}) = \\prod_{k=1}^{n} {P}(w_{k} \\vert w_{k-N-1}^{k-1})%\n",
    "\\end{equation*}\n",
    "\n",
    "However most often you would make use of bigrams (two words) or trigrams (three words). If applied to a bi-gram this equation changed to:\n",
    "\\begin{equation*}\n",
    "    {P}(w_{i} \\vert w_{i-1}) = \\frac{Count(w_{i-1}w_{i})}{Count(w_{i})}\n",
    "    %{P}(w_{i} \\vert w_{1}w_{2}...w_{i-1}) = {P}(w_{i} \\vert w_{i-1})%\n",
    "\\end{equation*}\n",
    "\n",
    "For a graphical demonstration of creating bigrams, see the picture below (from spaCy blog)."
   ]
  },
  {
   "cell_type": "markdown",
   "metadata": {},
   "source": [
    "![caption](files/images/Ngram-language-model-explained-with-examples.png)"
   ]
  },
  {
   "cell_type": "markdown",
   "metadata": {},
   "source": [
    "To decide on unigrams, bigrams, or trigrams, you need to consider the size of the vocabulary. The space an n-gram requires is exponential, so the larger the N-gram, the more data you would need:\n",
    "\\begin{equation*}\n",
    "    n(w-2(n-1))+\\sum _{i=1}^{n-1}2i\\qquad n,w\\in {\\mathcal {N}}\n",
    "\\end{equation*}\n",
    "        \n",
    "where each word $w$ in vocabulary $N$ is considered to be part of a n-gram of size $n$. \n",
    "\n",
    "For bigrams, each word combination is created. This means that before we start to divide the data into n-grams, we need to tokenize each sentence (see week 1). Ofcourse we could easily create a function ourselves, but textblob already has many possibilities. When you create a textblob, this is already tokenized, and can be used for n-grams, pos tagging, correct spelling and many other NLP tasks. \n"
   ]
  },
  {
   "cell_type": "code",
   "execution_count": 3,
   "metadata": {},
   "outputs": [
    {
     "name": "stderr",
     "output_type": "stream",
     "text": [
      "[nltk_data] Downloading package wordnet to\n",
      "[nltk_data]     C:\\Users\\MP\\AppData\\Roaming\\nltk_data...\n",
      "[nltk_data]   Package wordnet is already up-to-date!\n",
      "[nltk_data] Downloading package brown to\n",
      "[nltk_data]     C:\\Users\\MP\\AppData\\Roaming\\nltk_data...\n",
      "[nltk_data]   Package brown is already up-to-date!\n",
      "[nltk_data] Downloading package vader_lexicon to\n",
      "[nltk_data]     C:\\Users\\MP\\AppData\\Roaming\\nltk_data...\n",
      "[nltk_data]   Package vader_lexicon is already up-to-date!\n",
      "[nltk_data] Downloading package movie_reviews to\n",
      "[nltk_data]     C:\\Users\\MP\\AppData\\Roaming\\nltk_data...\n",
      "[nltk_data]   Package movie_reviews is already up-to-date!\n",
      "[nltk_data] Downloading package averaged_perceptron_tagger to\n",
      "[nltk_data]     C:\\Users\\MP\\AppData\\Roaming\\nltk_data...\n",
      "[nltk_data]   Package averaged_perceptron_tagger is already up-to-\n",
      "[nltk_data]       date!\n"
     ]
    },
    {
     "data": {
      "text/plain": [
       "True"
      ]
     },
     "execution_count": 3,
     "metadata": {},
     "output_type": "execute_result"
    }
   ],
   "source": [
    "# install packages\n",
    "#Anaconda: conda install -c conda-forge textblob\n",
    "from textblob import TextBlob\n",
    "from textblob.sentiments import NaiveBayesAnalyzer\n",
    "from textblob.sentiments import PatternAnalyzer\n",
    "import nltk\n",
    "from nltk.sentiment.vader import SentimentIntensityAnalyzer\n",
    "from nltk.stem import WordNetLemmatizer\n",
    "from nltk.stem.porter import *\n",
    "from nltk import word_tokenize\n",
    "from nltk.corpus import wordnet \n",
    "nltk.download('wordnet')\n",
    "nltk.download('brown')\n",
    "nltk.download('vader_lexicon')\n",
    "nltk.download('movie_reviews')\n",
    "nltk.download('averaged_perceptron_tagger')"
   ]
  },
  {
   "cell_type": "code",
   "execution_count": 4,
   "metadata": {},
   "outputs": [
    {
     "data": {
      "text/plain": [
       "15"
      ]
     },
     "execution_count": 4,
     "metadata": {},
     "output_type": "execute_result"
    }
   ],
   "source": [
    "len(TextBlob(df_sent.sentence.loc[1])) # 80 characters\n",
    "len(TextBlob(df_sent.sentence.loc[1]).words) # 15 words"
   ]
  },
  {
   "cell_type": "code",
   "execution_count": 5,
   "metadata": {},
   "outputs": [
    {
     "data": {
      "text/plain": [
       "[WordList(['Really', 'great']),\n",
       " WordList(['great', 'Dutch']),\n",
       " WordList(['Dutch', 'food']),\n",
       " WordList(['food', 'felt']),\n",
       " WordList(['felt', 'like']),\n",
       " WordList(['like', 'I']),\n",
       " WordList(['I', 'was']),\n",
       " WordList(['was', 'eating']),\n",
       " WordList(['eating', 'at']),\n",
       " WordList(['at', 'my']),\n",
       " WordList(['my', 'Dutch']),\n",
       " WordList(['Dutch', 'grandmother']),\n",
       " WordList(['grandmother', 's']),\n",
       " WordList(['s', 'house'])]"
      ]
     },
     "execution_count": 5,
     "metadata": {},
     "output_type": "execute_result"
    }
   ],
   "source": [
    "# create n-grams\n",
    "TextBlob(df_sent.sentence.loc[1]).ngrams(n=2)"
   ]
  },
  {
   "cell_type": "markdown",
   "metadata": {},
   "source": [
    "---"
   ]
  },
  {
   "cell_type": "markdown",
   "metadata": {},
   "source": [
    "## Parsing\n",
    "N-grams can be an efficient way to feed text to a classifier. However, more information can be abstracted from text. First, each word has a certain meaning in a sentence. This can be analyzed using tags. Textblob has a parser that analyzes the structure of the sentence, and assigns a tag to each word. Note that these are not always correct! Try to guess the pos tag of *trigger* in the following two sentences:\n",
    "\n",
    "* Corona might trigger a financial crisis\n",
    "* Corona might be a trigger for a financial crisis\n",
    "\n",
    "Clearly in the first sentence *trigger* is a verb while in the second it is a noun. "
   ]
  },
  {
   "cell_type": "code",
   "execution_count": 6,
   "metadata": {},
   "outputs": [
    {
     "data": {
      "text/plain": [
       "[('Corona', 'NNP'),\n",
       " ('might', 'MD'),\n",
       " ('trigger', 'VB'),\n",
       " ('a', 'DT'),\n",
       " ('financial', 'JJ'),\n",
       " ('crisis', 'NN')]"
      ]
     },
     "execution_count": 6,
     "metadata": {},
     "output_type": "execute_result"
    }
   ],
   "source": [
    "TextBlob('Corona might be a trigger for a financial crisis').tags\n",
    "TextBlob('Corona might trigger a financial crisis').tags"
   ]
  },
  {
   "cell_type": "code",
   "execution_count": 7,
   "metadata": {},
   "outputs": [
    {
     "data": {
      "text/plain": [
       "[('They', 'PRP'),\n",
       " ('only', 'RB'),\n",
       " ('sell', 'VBP'),\n",
       " ('one', 'CD'),\n",
       " ('overpriced', 'VBD'),\n",
       " ('OVERLY', 'NNP'),\n",
       " ('SWEET', 'NNP'),\n",
       " ('cookie', 'NN')]"
      ]
     },
     "execution_count": 7,
     "metadata": {},
     "output_type": "execute_result"
    }
   ],
   "source": [
    "# find tags\n",
    "TextBlob(df_sent.sentence.loc[1]).tags\n",
    "TextBlob(df_sent.sentence.loc[120]).tags"
   ]
  },
  {
   "cell_type": "markdown",
   "metadata": {},
   "source": [
    "**Capitals matter!** TextBlob analyzes the text, and uses capitals as markers for certain POS taggers. If the word starts with a capital, TextBlob will give it a NN (noun) or NNP (proper nouns (NNP) tag. NNP names specific people, places, things, or ideas.  Since they these nouns are naming specific things, they always begin with a capital letter. If all letters are capitals (see second example above), then TextBlob will also regard these words as proper nouns.\n",
    "\n",
    "In order to circumvent these tags, you can use only lower case. Although it creates better tags for words that identify countries (such as Dutch food), it might also create problems for names of specific people, things, ideas and places."
   ]
  },
  {
   "cell_type": "markdown",
   "metadata": {},
   "source": [
    "---"
   ]
  },
  {
   "cell_type": "markdown",
   "metadata": {},
   "source": [
    "Using the tags, you can decipher phrases as we discussed in the slides. This means that a set of words are identified as a phrase, a set of words that are connected. The most common one is noun phrases."
   ]
  },
  {
   "cell_type": "code",
   "execution_count": 8,
   "metadata": {},
   "outputs": [
    {
     "data": {
      "text/plain": [
       "WordList(['morning olav', 'sweet way'])"
      ]
     },
     "execution_count": 8,
     "metadata": {},
     "output_type": "execute_result"
    }
   ],
   "source": [
    "# change olav to capitals (or first letter only) to see what happens\n",
    "TextBlob('this morning olav was playing with lego in a very sweet way').noun_phrases"
   ]
  },
  {
   "cell_type": "code",
   "execution_count": 9,
   "metadata": {},
   "outputs": [
    {
     "data": {
      "text/plain": [
       "WordList(['really', 'dutch', 'dutch', 'grandmother s house'])"
      ]
     },
     "execution_count": 9,
     "metadata": {},
     "output_type": "execute_result"
    }
   ],
   "source": [
    "# find nouns\n",
    "TextBlob(df_sent.sentence.loc[1]).noun_phrases"
   ]
  },
  {
   "cell_type": "code",
   "execution_count": 10,
   "metadata": {},
   "outputs": [
    {
     "data": {
      "text/plain": [
       "WordList(['great dutch food', 'dutch grandmother s house'])"
      ]
     },
     "execution_count": 10,
     "metadata": {},
     "output_type": "execute_result"
    }
   ],
   "source": [
    "TextBlob(df_sent.sentence.loc[1].lower()).noun_phrases"
   ]
  },
  {
   "cell_type": "markdown",
   "metadata": {},
   "source": [
    "In general, computers are not very good at reading human language, and if parsing already poses challenges, the dissection of noun phrases even more! You can play around with many different parsers, but overall you will find that the results are not perfect. "
   ]
  },
  {
   "cell_type": "markdown",
   "metadata": {},
   "source": [
    "---"
   ]
  },
  {
   "cell_type": "markdown",
   "metadata": {},
   "source": [
    "## REGEX\n",
    "Now lets move on to the corpus that we will use to create the term frequency document matrix. As symbols and words that have only one character are very unlikely to be interesting, usually these are removed from the corpus.\n",
    "\n",
    "Using the `re` function, you can remove (`re.match`), replace (`re.sub`) or find (`re.findall`) certain symbols, or set of characters in a string. Any type of character or symbol can be searched for. If you want to search for a character or word in a certain position in a string you can use * to mask the rest of the string. So if you would like to find all sentences that start with \"The\". If you're interested in position, you need to start the pattern with `^` and if you're interested in how the string ends you need to close the pattern with `$`. If you are interested in all possible number (& combinations) you can use `[0-9]`. There are endless possibilities with `re`. Please find a comprehensible overview here: *https://www.w3schools.com/python/python_regex.asp.\n",
    "\n",
    "* `findall()` will return all occurrences that match a pattern\n",
    "* `search()` module will only return the first occurrence that matches the pattern\n",
    "* `match()` checks for a match only at the beginning of the string\n",
    "* `sub()` matched occurrences are replaced with the content of replace variable\n",
    "* `\\w` will match alphanumeric characters and underscores\n",
    "* `[^\\w]` will match anything that's not alphanumeric or underscore"
   ]
  },
  {
   "cell_type": "code",
   "execution_count": 11,
   "metadata": {},
   "outputs": [
    {
     "data": {
      "text/plain": [
       "[' That said  we had a great experience-- the food here is great',\n",
       " ' It s great',\n",
       " ' Yup  it was pretty great',\n",
       " ' We thought the prices & quality of the steaks and food were great',\n",
       " 'Interesting spot in utrecht  The staff are friendly and the food is great',\n",
       " 'Steak was great',\n",
       " '  Service was great',\n",
       " 'Blossom is simply great',\n",
       " 'Kibbeling (fried fish  was great',\n",
       " ' The staff is very friendly and the service was great',\n",
       " '  \\nHad the Palak Paneer  which were great',\n",
       " 'I ve come here three times before and everything was great',\n",
       " ' The coffee guide on the walls are a great',\n",
       " ' The service was very good and the food was great',\n",
       " '\\nExcellent value for money and a great',\n",
       " 'All the food was great',\n",
       " ' The food  the drinks  the service was great',\n",
       " ' The rice bowls are great',\n",
       " ' Atmosphere was also great',\n",
       " ' The coffee and service is always great',\n",
       " 'This place was great',\n",
       " 'You must go there  the atmosphere was amazing and pizza really great',\n",
       " ' The staff is very friendly  very accommodating  food is great',\n",
       " ' The beer selection was great',\n",
       " ' The ambience and customer service was great',\n",
       " ' Lunch was great',\n",
       " '\\n Quite simply it s great',\n",
       " ' From big band to jazz  the atmosphere is always great',\n",
       " '\\n The decor of the bar and restaurant is great',\n",
       " ' My husband and I each ordered crepe and smoothie  and they were all great',\n",
       " '  \\nThe menu is expansive with great',\n",
       " '  prices are very reasonable and the service was great',\n",
       " 'Went here with the family for a quick lunch and have nothing to complain about  food was great  service was great and the atmosphere was great']"
      ]
     },
     "execution_count": 11,
     "metadata": {},
     "output_type": "execute_result"
    }
   ],
   "source": [
    "# all sentences end with great\n",
    "[s for s in df_sent.sentence if re.search(\".*great$\",s)] # asterisk means everything else that precedes 'great'"
   ]
  },
  {
   "cell_type": "code",
   "execution_count": 12,
   "metadata": {},
   "outputs": [
    {
     "data": {
      "text/plain": [
       "' I recommend seeing movie  Loving Vincent go familiarize story paintings'"
      ]
     },
     "execution_count": 12,
     "metadata": {},
     "output_type": "execute_result"
    }
   ],
   "source": [
    "s=df_sent.sentence_cleaned.loc[19]\n",
    "re.findall('^[a-zA-Z]{1}$',s) # find sentences with only one letter, capital or not\n",
    "re.findall(r\"\\bhttps:\\//[a-z0-9.]*\", s) # find https links\n",
    "\n",
    "re.search('[\\n]',s) # find EOL markers\n",
    "re.search('[\\n]+\\w',s) # EOL marker followed by letter\n",
    "re.search('[*]?',s) # find star [] needed to find literally stars\n",
    "\n",
    "re.sub('\\s', '', s) # remove spaces\n",
    "re.sub('[a-z]', '', s.lower()) # remove letters, first convert to lower case\n",
    "re.sub(r'\"','',s) # r makes sure to also find \"\n",
    "re.sub(r'[^\\w]',' ',s) # replace everything but characters with spaces"
   ]
  },
  {
   "cell_type": "code",
   "execution_count": 13,
   "metadata": {},
   "outputs": [],
   "source": [
    "# delete all symbols except characters\n",
    "df_sent.sentence_cleaned = [re.sub(r'[^\\w]',' ',s) for s in df_sent.sentence_cleaned]"
   ]
  },
  {
   "cell_type": "code",
   "execution_count": 14,
   "metadata": {},
   "outputs": [],
   "source": [
    "# delete all sentences that only contain one character\n",
    "df_sent.sentence_cleaned = [re.sub('^[a-zA-Z]{1}$','',s) for s in df_sent.sentence_cleaned]"
   ]
  },
  {
   "cell_type": "markdown",
   "metadata": {},
   "source": [
    "---"
   ]
  },
  {
   "cell_type": "markdown",
   "metadata": {},
   "source": [
    "## Bag of Words\n",
    "Next, we create a matrix where each column represents a word and each row corresponds to the text documents (in our case sentences from text documents). This matrix allows us to extract special features from the text. Be aware that this function also deletes the spaces, and the single letters that are left over by the cleaning we have done above."
   ]
  },
  {
   "cell_type": "code",
   "execution_count": 15,
   "metadata": {},
   "outputs": [
    {
     "data": {
      "text/html": [
       "<div>\n",
       "<style scoped>\n",
       "    .dataframe tbody tr th:only-of-type {\n",
       "        vertical-align: middle;\n",
       "    }\n",
       "\n",
       "    .dataframe tbody tr th {\n",
       "        vertical-align: top;\n",
       "    }\n",
       "\n",
       "    .dataframe thead th {\n",
       "        text-align: right;\n",
       "    }\n",
       "</style>\n",
       "<table border=\"1\" class=\"dataframe\">\n",
       "  <thead>\n",
       "    <tr style=\"text-align: right;\">\n",
       "      <th></th>\n",
       "      <th>visiting</th>\n",
       "      <th>wait</th>\n",
       "      <th>waiter</th>\n",
       "      <th>waiters</th>\n",
       "      <th>waitlist</th>\n",
       "      <th>walk</th>\n",
       "      <th>walked</th>\n",
       "      <th>warm</th>\n",
       "      <th>waters</th>\n",
       "      <th>way</th>\n",
       "      <th>we</th>\n",
       "      <th>weekday</th>\n",
       "      <th>well</th>\n",
       "      <th>winkel</th>\n",
       "      <th>world</th>\n",
       "      <th>worst</th>\n",
       "      <th>worth</th>\n",
       "      <th>wow</th>\n",
       "      <th>wrong</th>\n",
       "      <th>x2</th>\n",
       "    </tr>\n",
       "  </thead>\n",
       "  <tbody>\n",
       "    <tr>\n",
       "      <th>0</th>\n",
       "      <td>0</td>\n",
       "      <td>0</td>\n",
       "      <td>0</td>\n",
       "      <td>0</td>\n",
       "      <td>0</td>\n",
       "      <td>0</td>\n",
       "      <td>0</td>\n",
       "      <td>0</td>\n",
       "      <td>0</td>\n",
       "      <td>0</td>\n",
       "      <td>0</td>\n",
       "      <td>0</td>\n",
       "      <td>0</td>\n",
       "      <td>0</td>\n",
       "      <td>0</td>\n",
       "      <td>0</td>\n",
       "      <td>0</td>\n",
       "      <td>1</td>\n",
       "      <td>0</td>\n",
       "      <td>0</td>\n",
       "    </tr>\n",
       "    <tr>\n",
       "      <th>1</th>\n",
       "      <td>0</td>\n",
       "      <td>0</td>\n",
       "      <td>0</td>\n",
       "      <td>0</td>\n",
       "      <td>0</td>\n",
       "      <td>0</td>\n",
       "      <td>0</td>\n",
       "      <td>0</td>\n",
       "      <td>0</td>\n",
       "      <td>0</td>\n",
       "      <td>0</td>\n",
       "      <td>0</td>\n",
       "      <td>0</td>\n",
       "      <td>0</td>\n",
       "      <td>0</td>\n",
       "      <td>0</td>\n",
       "      <td>0</td>\n",
       "      <td>0</td>\n",
       "      <td>0</td>\n",
       "      <td>0</td>\n",
       "    </tr>\n",
       "    <tr>\n",
       "      <th>2</th>\n",
       "      <td>0</td>\n",
       "      <td>0</td>\n",
       "      <td>0</td>\n",
       "      <td>0</td>\n",
       "      <td>0</td>\n",
       "      <td>0</td>\n",
       "      <td>0</td>\n",
       "      <td>0</td>\n",
       "      <td>0</td>\n",
       "      <td>0</td>\n",
       "      <td>0</td>\n",
       "      <td>0</td>\n",
       "      <td>0</td>\n",
       "      <td>0</td>\n",
       "      <td>0</td>\n",
       "      <td>0</td>\n",
       "      <td>0</td>\n",
       "      <td>0</td>\n",
       "      <td>0</td>\n",
       "      <td>0</td>\n",
       "    </tr>\n",
       "    <tr>\n",
       "      <th>3</th>\n",
       "      <td>0</td>\n",
       "      <td>0</td>\n",
       "      <td>0</td>\n",
       "      <td>0</td>\n",
       "      <td>0</td>\n",
       "      <td>0</td>\n",
       "      <td>0</td>\n",
       "      <td>0</td>\n",
       "      <td>0</td>\n",
       "      <td>0</td>\n",
       "      <td>0</td>\n",
       "      <td>0</td>\n",
       "      <td>0</td>\n",
       "      <td>0</td>\n",
       "      <td>0</td>\n",
       "      <td>0</td>\n",
       "      <td>0</td>\n",
       "      <td>0</td>\n",
       "      <td>0</td>\n",
       "      <td>0</td>\n",
       "    </tr>\n",
       "    <tr>\n",
       "      <th>4</th>\n",
       "      <td>0</td>\n",
       "      <td>0</td>\n",
       "      <td>0</td>\n",
       "      <td>0</td>\n",
       "      <td>0</td>\n",
       "      <td>0</td>\n",
       "      <td>0</td>\n",
       "      <td>0</td>\n",
       "      <td>0</td>\n",
       "      <td>0</td>\n",
       "      <td>0</td>\n",
       "      <td>0</td>\n",
       "      <td>0</td>\n",
       "      <td>0</td>\n",
       "      <td>0</td>\n",
       "      <td>1</td>\n",
       "      <td>0</td>\n",
       "      <td>0</td>\n",
       "      <td>0</td>\n",
       "      <td>0</td>\n",
       "    </tr>\n",
       "    <tr>\n",
       "      <th>...</th>\n",
       "      <td>...</td>\n",
       "      <td>...</td>\n",
       "      <td>...</td>\n",
       "      <td>...</td>\n",
       "      <td>...</td>\n",
       "      <td>...</td>\n",
       "      <td>...</td>\n",
       "      <td>...</td>\n",
       "      <td>...</td>\n",
       "      <td>...</td>\n",
       "      <td>...</td>\n",
       "      <td>...</td>\n",
       "      <td>...</td>\n",
       "      <td>...</td>\n",
       "      <td>...</td>\n",
       "      <td>...</td>\n",
       "      <td>...</td>\n",
       "      <td>...</td>\n",
       "      <td>...</td>\n",
       "      <td>...</td>\n",
       "    </tr>\n",
       "    <tr>\n",
       "      <th>95</th>\n",
       "      <td>0</td>\n",
       "      <td>0</td>\n",
       "      <td>0</td>\n",
       "      <td>0</td>\n",
       "      <td>0</td>\n",
       "      <td>1</td>\n",
       "      <td>0</td>\n",
       "      <td>0</td>\n",
       "      <td>0</td>\n",
       "      <td>0</td>\n",
       "      <td>0</td>\n",
       "      <td>0</td>\n",
       "      <td>0</td>\n",
       "      <td>0</td>\n",
       "      <td>0</td>\n",
       "      <td>0</td>\n",
       "      <td>0</td>\n",
       "      <td>0</td>\n",
       "      <td>0</td>\n",
       "      <td>0</td>\n",
       "    </tr>\n",
       "    <tr>\n",
       "      <th>96</th>\n",
       "      <td>0</td>\n",
       "      <td>0</td>\n",
       "      <td>0</td>\n",
       "      <td>0</td>\n",
       "      <td>0</td>\n",
       "      <td>0</td>\n",
       "      <td>0</td>\n",
       "      <td>0</td>\n",
       "      <td>0</td>\n",
       "      <td>0</td>\n",
       "      <td>0</td>\n",
       "      <td>0</td>\n",
       "      <td>0</td>\n",
       "      <td>0</td>\n",
       "      <td>0</td>\n",
       "      <td>0</td>\n",
       "      <td>0</td>\n",
       "      <td>0</td>\n",
       "      <td>0</td>\n",
       "      <td>0</td>\n",
       "    </tr>\n",
       "    <tr>\n",
       "      <th>97</th>\n",
       "      <td>0</td>\n",
       "      <td>0</td>\n",
       "      <td>0</td>\n",
       "      <td>0</td>\n",
       "      <td>0</td>\n",
       "      <td>0</td>\n",
       "      <td>0</td>\n",
       "      <td>0</td>\n",
       "      <td>0</td>\n",
       "      <td>0</td>\n",
       "      <td>0</td>\n",
       "      <td>0</td>\n",
       "      <td>0</td>\n",
       "      <td>0</td>\n",
       "      <td>0</td>\n",
       "      <td>0</td>\n",
       "      <td>0</td>\n",
       "      <td>0</td>\n",
       "      <td>0</td>\n",
       "      <td>0</td>\n",
       "    </tr>\n",
       "    <tr>\n",
       "      <th>98</th>\n",
       "      <td>0</td>\n",
       "      <td>0</td>\n",
       "      <td>0</td>\n",
       "      <td>0</td>\n",
       "      <td>0</td>\n",
       "      <td>0</td>\n",
       "      <td>0</td>\n",
       "      <td>0</td>\n",
       "      <td>0</td>\n",
       "      <td>0</td>\n",
       "      <td>0</td>\n",
       "      <td>0</td>\n",
       "      <td>0</td>\n",
       "      <td>0</td>\n",
       "      <td>0</td>\n",
       "      <td>0</td>\n",
       "      <td>0</td>\n",
       "      <td>0</td>\n",
       "      <td>0</td>\n",
       "      <td>0</td>\n",
       "    </tr>\n",
       "    <tr>\n",
       "      <th>99</th>\n",
       "      <td>0</td>\n",
       "      <td>0</td>\n",
       "      <td>0</td>\n",
       "      <td>0</td>\n",
       "      <td>0</td>\n",
       "      <td>0</td>\n",
       "      <td>0</td>\n",
       "      <td>0</td>\n",
       "      <td>0</td>\n",
       "      <td>0</td>\n",
       "      <td>0</td>\n",
       "      <td>0</td>\n",
       "      <td>0</td>\n",
       "      <td>0</td>\n",
       "      <td>0</td>\n",
       "      <td>0</td>\n",
       "      <td>0</td>\n",
       "      <td>0</td>\n",
       "      <td>0</td>\n",
       "      <td>0</td>\n",
       "    </tr>\n",
       "  </tbody>\n",
       "</table>\n",
       "<p>100 rows × 20 columns</p>\n",
       "</div>"
      ],
      "text/plain": [
       "    visiting  wait  waiter  waiters  waitlist  walk  walked  warm  waters  \\\n",
       "0          0     0       0        0         0     0       0     0       0   \n",
       "1          0     0       0        0         0     0       0     0       0   \n",
       "2          0     0       0        0         0     0       0     0       0   \n",
       "3          0     0       0        0         0     0       0     0       0   \n",
       "4          0     0       0        0         0     0       0     0       0   \n",
       "..       ...   ...     ...      ...       ...   ...     ...   ...     ...   \n",
       "95         0     0       0        0         0     1       0     0       0   \n",
       "96         0     0       0        0         0     0       0     0       0   \n",
       "97         0     0       0        0         0     0       0     0       0   \n",
       "98         0     0       0        0         0     0       0     0       0   \n",
       "99         0     0       0        0         0     0       0     0       0   \n",
       "\n",
       "    way  we  weekday  well  winkel  world  worst  worth  wow  wrong  x2  \n",
       "0     0   0        0     0       0      0      0      0    1      0   0  \n",
       "1     0   0        0     0       0      0      0      0    0      0   0  \n",
       "2     0   0        0     0       0      0      0      0    0      0   0  \n",
       "3     0   0        0     0       0      0      0      0    0      0   0  \n",
       "4     0   0        0     0       0      0      1      0    0      0   0  \n",
       "..  ...  ..      ...   ...     ...    ...    ...    ...  ...    ...  ..  \n",
       "95    0   0        0     0       0      0      0      0    0      0   0  \n",
       "96    0   0        0     0       0      0      0      0    0      0   0  \n",
       "97    0   0        0     0       0      0      0      0    0      0   0  \n",
       "98    0   0        0     0       0      0      0      0    0      0   0  \n",
       "99    0   0        0     0       0      0      0      0    0      0   0  \n",
       "\n",
       "[100 rows x 20 columns]"
      ]
     },
     "execution_count": 15,
     "metadata": {},
     "output_type": "execute_result"
    }
   ],
   "source": [
    "import pandas as pd\n",
    "from sklearn.feature_extraction.text import CountVectorizer\n",
    "corpus = df_sent.sentence_cleaned[0:100]\n",
    "\n",
    "BoWVectorizer = CountVectorizer()\n",
    "BoW_df = pd.DataFrame(BoWVectorizer.fit_transform(corpus).todense())\n",
    "BoW_df.columns=sorted(BoWVectorizer.vocabulary_)\n",
    "BoW_df.iloc[:,300:320] # see word 'wow' in first line"
   ]
  },
  {
   "cell_type": "markdown",
   "metadata": {},
   "source": [
    "The main disadvantage of BoW approach are the frequent words that contain little meaning. To avoid this, you could remove the stopwords (see week 1). Note that the count vectorizer cleaned the texts from capitals. See below for the 10 most frequent words in the first 100 sentences."
   ]
  },
  {
   "cell_type": "code",
   "execution_count": 16,
   "metadata": {},
   "outputs": [
    {
     "data": {
      "text/html": [
       "<div>\n",
       "<style scoped>\n",
       "    .dataframe tbody tr th:only-of-type {\n",
       "        vertical-align: middle;\n",
       "    }\n",
       "\n",
       "    .dataframe tbody tr th {\n",
       "        vertical-align: top;\n",
       "    }\n",
       "\n",
       "    .dataframe thead th {\n",
       "        text-align: right;\n",
       "    }\n",
       "</style>\n",
       "<table border=\"1\" class=\"dataframe\">\n",
       "  <thead>\n",
       "    <tr style=\"text-align: right;\">\n",
       "      <th></th>\n",
       "      <th>food</th>\n",
       "      <th>friendly</th>\n",
       "      <th>good</th>\n",
       "      <th>great</th>\n",
       "      <th>nice</th>\n",
       "      <th>one</th>\n",
       "      <th>place</th>\n",
       "      <th>restaurant</th>\n",
       "      <th>service</th>\n",
       "      <th>staff</th>\n",
       "    </tr>\n",
       "  </thead>\n",
       "  <tbody>\n",
       "    <tr>\n",
       "      <th>0</th>\n",
       "      <td>0</td>\n",
       "      <td>0</td>\n",
       "      <td>0</td>\n",
       "      <td>0</td>\n",
       "      <td>0</td>\n",
       "      <td>0</td>\n",
       "      <td>1</td>\n",
       "      <td>0</td>\n",
       "      <td>0</td>\n",
       "      <td>0</td>\n",
       "    </tr>\n",
       "    <tr>\n",
       "      <th>1</th>\n",
       "      <td>1</td>\n",
       "      <td>0</td>\n",
       "      <td>0</td>\n",
       "      <td>1</td>\n",
       "      <td>0</td>\n",
       "      <td>0</td>\n",
       "      <td>0</td>\n",
       "      <td>0</td>\n",
       "      <td>0</td>\n",
       "      <td>0</td>\n",
       "    </tr>\n",
       "    <tr>\n",
       "      <th>2</th>\n",
       "      <td>0</td>\n",
       "      <td>0</td>\n",
       "      <td>0</td>\n",
       "      <td>0</td>\n",
       "      <td>0</td>\n",
       "      <td>0</td>\n",
       "      <td>0</td>\n",
       "      <td>0</td>\n",
       "      <td>0</td>\n",
       "      <td>0</td>\n",
       "    </tr>\n",
       "    <tr>\n",
       "      <th>3</th>\n",
       "      <td>0</td>\n",
       "      <td>1</td>\n",
       "      <td>0</td>\n",
       "      <td>0</td>\n",
       "      <td>0</td>\n",
       "      <td>0</td>\n",
       "      <td>0</td>\n",
       "      <td>0</td>\n",
       "      <td>1</td>\n",
       "      <td>0</td>\n",
       "    </tr>\n",
       "    <tr>\n",
       "      <th>4</th>\n",
       "      <td>1</td>\n",
       "      <td>0</td>\n",
       "      <td>0</td>\n",
       "      <td>0</td>\n",
       "      <td>0</td>\n",
       "      <td>0</td>\n",
       "      <td>0</td>\n",
       "      <td>1</td>\n",
       "      <td>0</td>\n",
       "      <td>0</td>\n",
       "    </tr>\n",
       "    <tr>\n",
       "      <th>...</th>\n",
       "      <td>...</td>\n",
       "      <td>...</td>\n",
       "      <td>...</td>\n",
       "      <td>...</td>\n",
       "      <td>...</td>\n",
       "      <td>...</td>\n",
       "      <td>...</td>\n",
       "      <td>...</td>\n",
       "      <td>...</td>\n",
       "      <td>...</td>\n",
       "    </tr>\n",
       "    <tr>\n",
       "      <th>3018</th>\n",
       "      <td>0</td>\n",
       "      <td>0</td>\n",
       "      <td>0</td>\n",
       "      <td>0</td>\n",
       "      <td>0</td>\n",
       "      <td>0</td>\n",
       "      <td>0</td>\n",
       "      <td>0</td>\n",
       "      <td>0</td>\n",
       "      <td>0</td>\n",
       "    </tr>\n",
       "    <tr>\n",
       "      <th>3019</th>\n",
       "      <td>0</td>\n",
       "      <td>0</td>\n",
       "      <td>0</td>\n",
       "      <td>0</td>\n",
       "      <td>0</td>\n",
       "      <td>0</td>\n",
       "      <td>0</td>\n",
       "      <td>0</td>\n",
       "      <td>0</td>\n",
       "      <td>0</td>\n",
       "    </tr>\n",
       "    <tr>\n",
       "      <th>3020</th>\n",
       "      <td>0</td>\n",
       "      <td>0</td>\n",
       "      <td>0</td>\n",
       "      <td>0</td>\n",
       "      <td>0</td>\n",
       "      <td>0</td>\n",
       "      <td>0</td>\n",
       "      <td>0</td>\n",
       "      <td>0</td>\n",
       "      <td>0</td>\n",
       "    </tr>\n",
       "    <tr>\n",
       "      <th>3021</th>\n",
       "      <td>0</td>\n",
       "      <td>0</td>\n",
       "      <td>0</td>\n",
       "      <td>0</td>\n",
       "      <td>0</td>\n",
       "      <td>0</td>\n",
       "      <td>0</td>\n",
       "      <td>0</td>\n",
       "      <td>0</td>\n",
       "      <td>0</td>\n",
       "    </tr>\n",
       "    <tr>\n",
       "      <th>3022</th>\n",
       "      <td>0</td>\n",
       "      <td>0</td>\n",
       "      <td>0</td>\n",
       "      <td>0</td>\n",
       "      <td>0</td>\n",
       "      <td>0</td>\n",
       "      <td>0</td>\n",
       "      <td>0</td>\n",
       "      <td>0</td>\n",
       "      <td>0</td>\n",
       "    </tr>\n",
       "  </tbody>\n",
       "</table>\n",
       "<p>3023 rows × 10 columns</p>\n",
       "</div>"
      ],
      "text/plain": [
       "      food  friendly  good  great  nice  one  place  restaurant  service  \\\n",
       "0        0         0     0      0     0    0      1           0        0   \n",
       "1        1         0     0      1     0    0      0           0        0   \n",
       "2        0         0     0      0     0    0      0           0        0   \n",
       "3        0         1     0      0     0    0      0           0        1   \n",
       "4        1         0     0      0     0    0      0           1        0   \n",
       "...    ...       ...   ...    ...   ...  ...    ...         ...      ...   \n",
       "3018     0         0     0      0     0    0      0           0        0   \n",
       "3019     0         0     0      0     0    0      0           0        0   \n",
       "3020     0         0     0      0     0    0      0           0        0   \n",
       "3021     0         0     0      0     0    0      0           0        0   \n",
       "3022     0         0     0      0     0    0      0           0        0   \n",
       "\n",
       "      staff  \n",
       "0         0  \n",
       "1         0  \n",
       "2         0  \n",
       "3         0  \n",
       "4         0  \n",
       "...     ...  \n",
       "3018      0  \n",
       "3019      0  \n",
       "3020      0  \n",
       "3021      0  \n",
       "3022      0  \n",
       "\n",
       "[3023 rows x 10 columns]"
      ]
     },
     "execution_count": 16,
     "metadata": {},
     "output_type": "execute_result"
    }
   ],
   "source": [
    "corpus = df_sent.sentence_cleaned\n",
    "BoW = CountVectorizer(max_features=10)\n",
    "BoW_df = pd.DataFrame(BoW.fit_transform(corpus).todense())\n",
    "BoW_df.columns=sorted(BoW.vocabulary_)\n",
    "BoW_df"
   ]
  },
  {
   "cell_type": "code",
   "execution_count": 17,
   "metadata": {},
   "outputs": [
    {
     "data": {
      "text/plain": [
       "3953"
      ]
     },
     "execution_count": 17,
     "metadata": {},
     "output_type": "execute_result"
    }
   ],
   "source": [
    "from collections import Counter \n",
    "# remove words that are single characters\n",
    "tokens_corpus = [token for s in df_sent.sentence_cleaned for token in word_tokenize(s) if len(token) > 1] \n",
    "len(Counter(tokens_corpus)) # 3896 unique words in vocabulary"
   ]
  },
  {
   "cell_type": "markdown",
   "metadata": {},
   "source": [
    "---"
   ]
  },
  {
   "cell_type": "markdown",
   "metadata": {},
   "source": [
    "## TF-IDF\n",
    "Another way to deal with frequent words is to use the Term Frequency (TF) per document. This is summarized in the term frequency - document matrix where each frequency relates to term *t* in document *d*. How often term $t$ occurs in document $d$ and all documents of $D$, you can use the inverse fraction of documents:\n",
    "        \\begin{equation*}\n",
    "            idf(t,D) = log \\frac{N}{1 + \\lvert \\left\\{d \\in D : t \\in D \\right\\}\\rvert}\n",
    "        \\end{equation*}\n",
    "To prevent bias towards larger documents:\n",
    "\\begin{equation*}\n",
    "    tf(t,d) = 0.5 + 0.5 \\cdot \\frac{f_{t,d}}{max \\left\\{f_{t',d} : t^\\prime \\in d  \\right\\}}\n",
    "\\end{equation*}\n",
    "Hence, the `TfidfVectorizer` does two things: transform the data to a term - frequency matrix, and calculate the frequency of terms across documents. It uses a log transformation (`fit_transform()`), and adds one (laplace smoothing) to make sure that words with an idf score of zero are not surpressed entirely (fit function actived when running `TfidfVectorizer()`). For more information see: https://www.freecodecamp.org/news/how-to-process-textual-data-using-tf-idf-in-python-cd2bbc0a94a3/"
   ]
  },
  {
   "cell_type": "code",
   "execution_count": 18,
   "metadata": {},
   "outputs": [
    {
     "data": {
      "text/html": [
       "<div>\n",
       "<style scoped>\n",
       "    .dataframe tbody tr th:only-of-type {\n",
       "        vertical-align: middle;\n",
       "    }\n",
       "\n",
       "    .dataframe tbody tr th {\n",
       "        vertical-align: top;\n",
       "    }\n",
       "\n",
       "    .dataframe thead th {\n",
       "        text-align: right;\n",
       "    }\n",
       "</style>\n",
       "<table border=\"1\" class=\"dataframe\">\n",
       "  <thead>\n",
       "    <tr style=\"text-align: right;\">\n",
       "      <th></th>\n",
       "      <th>00</th>\n",
       "      <th>10</th>\n",
       "      <th>100</th>\n",
       "      <th>11</th>\n",
       "      <th>1150</th>\n",
       "      <th>12</th>\n",
       "      <th>13</th>\n",
       "      <th>15</th>\n",
       "      <th>150</th>\n",
       "      <th>1587</th>\n",
       "      <th>...</th>\n",
       "      <th>yum</th>\n",
       "      <th>yummy</th>\n",
       "      <th>yup</th>\n",
       "      <th>yuuuup</th>\n",
       "      <th>zeezicht</th>\n",
       "      <th>zero</th>\n",
       "      <th>zot</th>\n",
       "      <th>zucchini</th>\n",
       "      <th>zwaan</th>\n",
       "      <th>über</th>\n",
       "    </tr>\n",
       "  </thead>\n",
       "  <tbody>\n",
       "    <tr>\n",
       "      <th>0</th>\n",
       "      <td>0.0</td>\n",
       "      <td>0.0</td>\n",
       "      <td>0.0</td>\n",
       "      <td>0.0</td>\n",
       "      <td>0.0</td>\n",
       "      <td>0.0</td>\n",
       "      <td>0.0</td>\n",
       "      <td>0.0</td>\n",
       "      <td>0.0</td>\n",
       "      <td>0.0</td>\n",
       "      <td>...</td>\n",
       "      <td>0.0</td>\n",
       "      <td>0.0</td>\n",
       "      <td>0.0</td>\n",
       "      <td>0.0</td>\n",
       "      <td>0.0</td>\n",
       "      <td>0.0</td>\n",
       "      <td>0.0</td>\n",
       "      <td>0.0</td>\n",
       "      <td>0.0</td>\n",
       "      <td>0.0</td>\n",
       "    </tr>\n",
       "    <tr>\n",
       "      <th>1</th>\n",
       "      <td>0.0</td>\n",
       "      <td>0.0</td>\n",
       "      <td>0.0</td>\n",
       "      <td>0.0</td>\n",
       "      <td>0.0</td>\n",
       "      <td>0.0</td>\n",
       "      <td>0.0</td>\n",
       "      <td>0.0</td>\n",
       "      <td>0.0</td>\n",
       "      <td>0.0</td>\n",
       "      <td>...</td>\n",
       "      <td>0.0</td>\n",
       "      <td>0.0</td>\n",
       "      <td>0.0</td>\n",
       "      <td>0.0</td>\n",
       "      <td>0.0</td>\n",
       "      <td>0.0</td>\n",
       "      <td>0.0</td>\n",
       "      <td>0.0</td>\n",
       "      <td>0.0</td>\n",
       "      <td>0.0</td>\n",
       "    </tr>\n",
       "    <tr>\n",
       "      <th>2</th>\n",
       "      <td>0.0</td>\n",
       "      <td>0.0</td>\n",
       "      <td>0.0</td>\n",
       "      <td>0.0</td>\n",
       "      <td>0.0</td>\n",
       "      <td>0.0</td>\n",
       "      <td>0.0</td>\n",
       "      <td>0.0</td>\n",
       "      <td>0.0</td>\n",
       "      <td>0.0</td>\n",
       "      <td>...</td>\n",
       "      <td>0.0</td>\n",
       "      <td>0.0</td>\n",
       "      <td>0.0</td>\n",
       "      <td>0.0</td>\n",
       "      <td>0.0</td>\n",
       "      <td>0.0</td>\n",
       "      <td>0.0</td>\n",
       "      <td>0.0</td>\n",
       "      <td>0.0</td>\n",
       "      <td>0.0</td>\n",
       "    </tr>\n",
       "    <tr>\n",
       "      <th>3</th>\n",
       "      <td>0.0</td>\n",
       "      <td>0.0</td>\n",
       "      <td>0.0</td>\n",
       "      <td>0.0</td>\n",
       "      <td>0.0</td>\n",
       "      <td>0.0</td>\n",
       "      <td>0.0</td>\n",
       "      <td>0.0</td>\n",
       "      <td>0.0</td>\n",
       "      <td>0.0</td>\n",
       "      <td>...</td>\n",
       "      <td>0.0</td>\n",
       "      <td>0.0</td>\n",
       "      <td>0.0</td>\n",
       "      <td>0.0</td>\n",
       "      <td>0.0</td>\n",
       "      <td>0.0</td>\n",
       "      <td>0.0</td>\n",
       "      <td>0.0</td>\n",
       "      <td>0.0</td>\n",
       "      <td>0.0</td>\n",
       "    </tr>\n",
       "    <tr>\n",
       "      <th>4</th>\n",
       "      <td>0.0</td>\n",
       "      <td>0.0</td>\n",
       "      <td>0.0</td>\n",
       "      <td>0.0</td>\n",
       "      <td>0.0</td>\n",
       "      <td>0.0</td>\n",
       "      <td>0.0</td>\n",
       "      <td>0.0</td>\n",
       "      <td>0.0</td>\n",
       "      <td>0.0</td>\n",
       "      <td>...</td>\n",
       "      <td>0.0</td>\n",
       "      <td>0.0</td>\n",
       "      <td>0.0</td>\n",
       "      <td>0.0</td>\n",
       "      <td>0.0</td>\n",
       "      <td>0.0</td>\n",
       "      <td>0.0</td>\n",
       "      <td>0.0</td>\n",
       "      <td>0.0</td>\n",
       "      <td>0.0</td>\n",
       "    </tr>\n",
       "    <tr>\n",
       "      <th>...</th>\n",
       "      <td>...</td>\n",
       "      <td>...</td>\n",
       "      <td>...</td>\n",
       "      <td>...</td>\n",
       "      <td>...</td>\n",
       "      <td>...</td>\n",
       "      <td>...</td>\n",
       "      <td>...</td>\n",
       "      <td>...</td>\n",
       "      <td>...</td>\n",
       "      <td>...</td>\n",
       "      <td>...</td>\n",
       "      <td>...</td>\n",
       "      <td>...</td>\n",
       "      <td>...</td>\n",
       "      <td>...</td>\n",
       "      <td>...</td>\n",
       "      <td>...</td>\n",
       "      <td>...</td>\n",
       "      <td>...</td>\n",
       "      <td>...</td>\n",
       "    </tr>\n",
       "    <tr>\n",
       "      <th>3018</th>\n",
       "      <td>0.0</td>\n",
       "      <td>0.0</td>\n",
       "      <td>0.0</td>\n",
       "      <td>0.0</td>\n",
       "      <td>0.0</td>\n",
       "      <td>0.0</td>\n",
       "      <td>0.0</td>\n",
       "      <td>0.0</td>\n",
       "      <td>0.0</td>\n",
       "      <td>0.0</td>\n",
       "      <td>...</td>\n",
       "      <td>0.0</td>\n",
       "      <td>0.0</td>\n",
       "      <td>0.0</td>\n",
       "      <td>0.0</td>\n",
       "      <td>0.0</td>\n",
       "      <td>0.0</td>\n",
       "      <td>0.0</td>\n",
       "      <td>0.0</td>\n",
       "      <td>0.0</td>\n",
       "      <td>0.0</td>\n",
       "    </tr>\n",
       "    <tr>\n",
       "      <th>3019</th>\n",
       "      <td>0.0</td>\n",
       "      <td>0.0</td>\n",
       "      <td>0.0</td>\n",
       "      <td>0.0</td>\n",
       "      <td>0.0</td>\n",
       "      <td>0.0</td>\n",
       "      <td>0.0</td>\n",
       "      <td>0.0</td>\n",
       "      <td>0.0</td>\n",
       "      <td>0.0</td>\n",
       "      <td>...</td>\n",
       "      <td>0.0</td>\n",
       "      <td>0.0</td>\n",
       "      <td>0.0</td>\n",
       "      <td>0.0</td>\n",
       "      <td>0.0</td>\n",
       "      <td>0.0</td>\n",
       "      <td>0.0</td>\n",
       "      <td>0.0</td>\n",
       "      <td>0.0</td>\n",
       "      <td>0.0</td>\n",
       "    </tr>\n",
       "    <tr>\n",
       "      <th>3020</th>\n",
       "      <td>0.0</td>\n",
       "      <td>0.0</td>\n",
       "      <td>0.0</td>\n",
       "      <td>0.0</td>\n",
       "      <td>0.0</td>\n",
       "      <td>0.0</td>\n",
       "      <td>0.0</td>\n",
       "      <td>0.0</td>\n",
       "      <td>0.0</td>\n",
       "      <td>0.0</td>\n",
       "      <td>...</td>\n",
       "      <td>0.0</td>\n",
       "      <td>0.0</td>\n",
       "      <td>0.0</td>\n",
       "      <td>0.0</td>\n",
       "      <td>0.0</td>\n",
       "      <td>0.0</td>\n",
       "      <td>0.0</td>\n",
       "      <td>0.0</td>\n",
       "      <td>0.0</td>\n",
       "      <td>0.0</td>\n",
       "    </tr>\n",
       "    <tr>\n",
       "      <th>3021</th>\n",
       "      <td>0.0</td>\n",
       "      <td>0.0</td>\n",
       "      <td>0.0</td>\n",
       "      <td>0.0</td>\n",
       "      <td>0.0</td>\n",
       "      <td>0.0</td>\n",
       "      <td>0.0</td>\n",
       "      <td>0.0</td>\n",
       "      <td>0.0</td>\n",
       "      <td>0.0</td>\n",
       "      <td>...</td>\n",
       "      <td>0.0</td>\n",
       "      <td>0.0</td>\n",
       "      <td>0.0</td>\n",
       "      <td>0.0</td>\n",
       "      <td>0.0</td>\n",
       "      <td>0.0</td>\n",
       "      <td>0.0</td>\n",
       "      <td>0.0</td>\n",
       "      <td>0.0</td>\n",
       "      <td>0.0</td>\n",
       "    </tr>\n",
       "    <tr>\n",
       "      <th>3022</th>\n",
       "      <td>0.0</td>\n",
       "      <td>0.0</td>\n",
       "      <td>0.0</td>\n",
       "      <td>0.0</td>\n",
       "      <td>0.0</td>\n",
       "      <td>0.0</td>\n",
       "      <td>0.0</td>\n",
       "      <td>0.0</td>\n",
       "      <td>0.0</td>\n",
       "      <td>0.0</td>\n",
       "      <td>...</td>\n",
       "      <td>0.0</td>\n",
       "      <td>0.0</td>\n",
       "      <td>0.0</td>\n",
       "      <td>0.0</td>\n",
       "      <td>0.0</td>\n",
       "      <td>0.0</td>\n",
       "      <td>0.0</td>\n",
       "      <td>0.0</td>\n",
       "      <td>0.0</td>\n",
       "      <td>0.0</td>\n",
       "    </tr>\n",
       "  </tbody>\n",
       "</table>\n",
       "<p>3023 rows × 3467 columns</p>\n",
       "</div>"
      ],
      "text/plain": [
       "       00   10  100   11  1150   12   13   15  150  1587  ...  yum  yummy  \\\n",
       "0     0.0  0.0  0.0  0.0   0.0  0.0  0.0  0.0  0.0   0.0  ...  0.0    0.0   \n",
       "1     0.0  0.0  0.0  0.0   0.0  0.0  0.0  0.0  0.0   0.0  ...  0.0    0.0   \n",
       "2     0.0  0.0  0.0  0.0   0.0  0.0  0.0  0.0  0.0   0.0  ...  0.0    0.0   \n",
       "3     0.0  0.0  0.0  0.0   0.0  0.0  0.0  0.0  0.0   0.0  ...  0.0    0.0   \n",
       "4     0.0  0.0  0.0  0.0   0.0  0.0  0.0  0.0  0.0   0.0  ...  0.0    0.0   \n",
       "...   ...  ...  ...  ...   ...  ...  ...  ...  ...   ...  ...  ...    ...   \n",
       "3018  0.0  0.0  0.0  0.0   0.0  0.0  0.0  0.0  0.0   0.0  ...  0.0    0.0   \n",
       "3019  0.0  0.0  0.0  0.0   0.0  0.0  0.0  0.0  0.0   0.0  ...  0.0    0.0   \n",
       "3020  0.0  0.0  0.0  0.0   0.0  0.0  0.0  0.0  0.0   0.0  ...  0.0    0.0   \n",
       "3021  0.0  0.0  0.0  0.0   0.0  0.0  0.0  0.0  0.0   0.0  ...  0.0    0.0   \n",
       "3022  0.0  0.0  0.0  0.0   0.0  0.0  0.0  0.0  0.0   0.0  ...  0.0    0.0   \n",
       "\n",
       "      yup  yuuuup  zeezicht  zero  zot  zucchini  zwaan  über  \n",
       "0     0.0     0.0       0.0   0.0  0.0       0.0    0.0   0.0  \n",
       "1     0.0     0.0       0.0   0.0  0.0       0.0    0.0   0.0  \n",
       "2     0.0     0.0       0.0   0.0  0.0       0.0    0.0   0.0  \n",
       "3     0.0     0.0       0.0   0.0  0.0       0.0    0.0   0.0  \n",
       "4     0.0     0.0       0.0   0.0  0.0       0.0    0.0   0.0  \n",
       "...   ...     ...       ...   ...  ...       ...    ...   ...  \n",
       "3018  0.0     0.0       0.0   0.0  0.0       0.0    0.0   0.0  \n",
       "3019  0.0     0.0       0.0   0.0  0.0       0.0    0.0   0.0  \n",
       "3020  0.0     0.0       0.0   0.0  0.0       0.0    0.0   0.0  \n",
       "3021  0.0     0.0       0.0   0.0  0.0       0.0    0.0   0.0  \n",
       "3022  0.0     0.0       0.0   0.0  0.0       0.0    0.0   0.0  \n",
       "\n",
       "[3023 rows x 3467 columns]"
      ]
     },
     "execution_count": 18,
     "metadata": {},
     "output_type": "execute_result"
    }
   ],
   "source": [
    "from sklearn.feature_extraction.text import TfidfVectorizer\n",
    "tfidf = TfidfVectorizer()\n",
    "tfidf_df = pd.DataFrame(tfidf.fit_transform(corpus).todense())\n",
    "tfidf_df.columns=sorted(tfidf.vocabulary_)\n",
    "tfidf_df"
   ]
  },
  {
   "cell_type": "markdown",
   "metadata": {},
   "source": [
    "The zeros mean that these words are present in multiple reviews, while the numbers different from zero represent words that only appear in that document (i.e. sentence)."
   ]
  },
  {
   "cell_type": "markdown",
   "metadata": {},
   "source": [
    "---"
   ]
  },
  {
   "cell_type": "markdown",
   "metadata": {},
   "source": [
    "## Lemmatization, Stemming & WordNet\n",
    "Many words spring from the same stem, i.e. the part of the word to which affixes can be attached. Stems have lexical meaning. For example, the English word *friendships* contains the stem *friend*. Words having the same stem often share meaning. Stems do not need to be actual words."
   ]
  },
  {
   "cell_type": "code",
   "execution_count": 19,
   "metadata": {},
   "outputs": [
    {
     "data": {
      "text/plain": [
       "'realli great dutch food felt like i wa eat at my dutch grandmoth s hous'"
      ]
     },
     "execution_count": 19,
     "metadata": {},
     "output_type": "execute_result"
    }
   ],
   "source": [
    "sentence = df_sent.sentence[1].lower()\n",
    "ps_stemmer = PorterStemmer()\n",
    "' '.join([ps_stemmer.stem(word) for word in word_tokenize(sentence)])"
   ]
  },
  {
   "cell_type": "markdown",
   "metadata": {},
   "source": [
    "Sometimes stemming is limited as the algorithms just cut off the end or beginning of a word (based on a list of common prefixes and suffixes that can be found). Lemmatization takes into consideration the morpholical analysis of the words. It looks through detailed dictionaries to link the form back to its lemma. "
   ]
  },
  {
   "cell_type": "code",
   "execution_count": 20,
   "metadata": {},
   "outputs": [
    {
     "data": {
      "text/plain": [
       "'really great dutch food felt like i wa eating at my dutch grandmother s house'"
      ]
     },
     "execution_count": 20,
     "metadata": {},
     "output_type": "execute_result"
    }
   ],
   "source": [
    "lemmatizer = WordNetLemmatizer()\n",
    "' '.join([lemmatizer.lemmatize(word) for word in word_tokenize(sentence)])"
   ]
  },
  {
   "cell_type": "markdown",
   "metadata": {},
   "source": [
    "The advantage of lemmatized words, is that you can easily find other words that are related. These are called synsets and are stored in WordNet, an enormous endeavour by many researchers to document the available words in English language and how they are related to one another. Synsets describe words that are similar in meaning. To learn more about synsets, you can use wordnet which is integrated with textblob. This might be useful, if you would like to take into account the multiple meanings of the word 'bank' for instance. "
   ]
  },
  {
   "cell_type": "code",
   "execution_count": 21,
   "metadata": {},
   "outputs": [
    {
     "name": "stdout",
     "output_type": "stream",
     "text": [
      "0 sloping land (especially the slope beside a body of water) , example: ['they pulled the canoe up on the bank', 'he sat on the bank of the river and watched the currents']\n",
      "1 a financial institution that accepts deposits and channels the money into lending activities , example: ['he cashed a check at the bank', 'that bank holds the mortgage on my home']\n",
      "2 a long ridge or pile , example: ['a huge bank of earth']\n",
      "3 an arrangement of similar objects in a row or in tiers , example: ['he operated a bank of switches']\n",
      "4 a supply or stock held in reserve for future use (especially in emergencies) , example: []\n",
      "5 the funds held by a gambling house or the dealer in some gambling games , example: ['he tried to break the bank at Monte Carlo']\n",
      "6 a slope in the turn of a road or track; the outside is higher than the inside in order to reduce the effects of centrifugal force , example: []\n",
      "7 a container (usually with a slot in the top) for keeping money at home , example: ['the coin bank was empty']\n",
      "8 a building in which the business of banking transacted , example: ['the bank is on the corner of Nassau and Witherspoon']\n",
      "9 a flight maneuver; aircraft tips laterally about its longitudinal axis (especially in turning) , example: ['the plane went into a steep bank']\n",
      "10 tip laterally , example: ['the pilot had to bank the aircraft']\n",
      "11 enclose with a bank , example: ['bank roads']\n",
      "12 do business with a bank or keep an account at a bank , example: ['Where do you bank in this town?']\n",
      "13 act as the banker in a game or in gambling , example: []\n",
      "14 be in the banking business , example: []\n",
      "15 put into a bank account , example: ['She deposits her paycheck every month']\n",
      "16 cover with ashes so to control the rate of burning , example: ['bank a fire']\n",
      "17 have confidence or faith in , example: ['We can trust in God', 'Rely on your friends', 'bank on your good education', \"I swear by my grandmother's recipes\"]\n"
     ]
    }
   ],
   "source": [
    "syn=wordnet.synsets('bank')\n",
    "for k in range(0,len(syn)):\n",
    "    print(k, syn[k].definition(),', example:', syn[k].examples()) "
   ]
  },
  {
   "cell_type": "markdown",
   "metadata": {},
   "source": [
    "To avoid separately analyzing words with similar meaning, you could stem or lemmatize all words in your corpus. Ofcourse this deletes information, so if you think there is valuable information of whether a word is a verb or noun, you should not stem or lemmatize. In most cases, if you have enough data, it might be better to analyze the words as they are. However, in small datasets, you need to limit the vocabulary size, for which lemmatization and stemming can be very useful."
   ]
  },
  {
   "cell_type": "markdown",
   "metadata": {},
   "source": [
    "---"
   ]
  },
  {
   "cell_type": "markdown",
   "metadata": {},
   "source": [
    "## Sentiment\n",
    "To analyze sentiment, you can use rule based methods (such as textblob, or vader) or we can use feature-based mehods such as the Naive Bayes classifier, Support Vector Machines classifier, or the pattern classifier. The advantage of rule-based methods is that they are simple and easy to follow. The downside is that the rules may be too simplistic to pick up the subtitles of human langauge (think of comments that both include positive and negative sentiments). The default in TextBlob is the Pattern Analyzer, which is based on the pattern package. Note that if the polarity is >0, it is considered positive, <0 -is considered negative and ==0 is considered neutral. The Naive Bayes classifier in TextBlob is build on the NLTK package and is trained on IMDB dataset."
   ]
  },
  {
   "cell_type": "code",
   "execution_count": 22,
   "metadata": {},
   "outputs": [
    {
     "name": "stdout",
     "output_type": "stream",
     "text": [
      " Really great Dutch food  felt like I was eating at my Dutch grandmother s house\n"
     ]
    },
    {
     "data": {
      "text/plain": [
       "Sentiment(polarity=0.8, subjectivity=0.75)"
      ]
     },
     "execution_count": 22,
     "metadata": {},
     "output_type": "execute_result"
    }
   ],
   "source": [
    "print(df_sent.sentence.loc[1])\n",
    "TextBlob(df_sent.sentence.loc[1]).sentiment"
   ]
  },
  {
   "cell_type": "code",
   "execution_count": 23,
   "metadata": {},
   "outputs": [
    {
     "data": {
      "text/plain": [
       "-0.5833333333333334"
      ]
     },
     "execution_count": 23,
     "metadata": {},
     "output_type": "execute_result"
    }
   ],
   "source": [
    "# negative sentiment with textblob, naive bayes\n",
    "TextBlob(df_sent.sentence.loc[1], analyzer=NaiveBayesAnalyzer()).sentiment\n",
    "\n",
    "# polarity and subjectivity with textblob, pattern analyzer\n",
    "TextBlob(df_sent.sentence.loc[1], analyzer=PatternAnalyzer()).sentiment\n",
    "\n",
    "# negative example\n",
    "TextBlob(df_sent.sentence.loc[7], analyzer=NaiveBayesAnalyzer()).sentiment\n",
    "TextBlob(df_sent.sentence.loc[7], analyzer=PatternAnalyzer()).sentiment[0]"
   ]
  },
  {
   "cell_type": "code",
   "execution_count": 24,
   "metadata": {},
   "outputs": [
    {
     "name": "stdout",
     "output_type": "stream",
     "text": [
      "Wow  this place is just so real and authentic {'neg': 0.0, 'neu': 0.678, 'pos': 0.322, 'compound': 0.5859}\n",
      " Really great Dutch food  felt like I was eating at my Dutch grandmother s house {'neg': 0.0, 'neu': 0.615, 'pos': 0.385, 'compound': 0.7841}\n",
      " As K and I were here on a {'neg': 0.0, 'neu': 1.0, 'pos': 0.0, 'compound': 0.0}\n",
      "Should be 1 star but friendly service 2 stars {'neg': 0.0, 'neu': 0.583, 'pos': 0.417, 'compound': 0.6486}\n",
      "  \n",
      "Food here is atrocious  the worst restaurant I ve had in Amsterdam by a LONG SHOT {'neg': 0.24, 'neu': 0.76, 'pos': 0.0, 'compound': -0.6249}\n",
      " Any menu with multiple {'neg': 0.0, 'neu': 1.0, 'pos': 0.0, 'compound': 0.0}\n",
      "Excellent service and food {'neg': 0.0, 'neu': 0.448, 'pos': 0.552, 'compound': 0.5719}\n",
      " You can t really go wrong with Dutch home cooking {'neg': 0.297, 'neu': 0.703, 'pos': 0.0, 'compound': -0.5233}\n",
      "  \n",
      "The pea soup was delightful {'neg': 0.0, 'neu': 0.513, 'pos': 0.487, 'compound': 0.5859}\n",
      " I got the meatball with three different types {'neg': 0.0, 'neu': 1.0, 'pos': 0.0, 'compound': 0.0}\n"
     ]
    },
    {
     "data": {
      "text/plain": [
       "[None, None, None, None, None, None, None, None, None, None]"
      ]
     },
     "execution_count": 24,
     "metadata": {},
     "output_type": "execute_result"
    }
   ],
   "source": [
    "# in some cases vader is better  at finding subtle meanings of sentences\n",
    "vader = SentimentIntensityAnalyzer()\n",
    "[print(s, vader.polarity_scores(s)) for s in df_sent.sentence[0:10]]"
   ]
  },
  {
   "cell_type": "code",
   "execution_count": 25,
   "metadata": {},
   "outputs": [
    {
     "data": {
      "text/html": [
       "<div>\n",
       "<style scoped>\n",
       "    .dataframe tbody tr th:only-of-type {\n",
       "        vertical-align: middle;\n",
       "    }\n",
       "\n",
       "    .dataframe tbody tr th {\n",
       "        vertical-align: top;\n",
       "    }\n",
       "\n",
       "    .dataframe thead th {\n",
       "        text-align: right;\n",
       "    }\n",
       "</style>\n",
       "<table border=\"1\" class=\"dataframe\">\n",
       "  <thead>\n",
       "    <tr style=\"text-align: right;\">\n",
       "      <th></th>\n",
       "      <th>polarity</th>\n",
       "      <th>subjectivity</th>\n",
       "      <th>compound</th>\n",
       "      <th>rating</th>\n",
       "    </tr>\n",
       "  </thead>\n",
       "  <tbody>\n",
       "    <tr>\n",
       "      <th>polarity</th>\n",
       "      <td>1.000000</td>\n",
       "      <td>0.586285</td>\n",
       "      <td>0.683865</td>\n",
       "      <td>0.195327</td>\n",
       "    </tr>\n",
       "    <tr>\n",
       "      <th>subjectivity</th>\n",
       "      <td>0.586285</td>\n",
       "      <td>1.000000</td>\n",
       "      <td>0.501763</td>\n",
       "      <td>0.057582</td>\n",
       "    </tr>\n",
       "    <tr>\n",
       "      <th>compound</th>\n",
       "      <td>0.683865</td>\n",
       "      <td>0.501763</td>\n",
       "      <td>1.000000</td>\n",
       "      <td>0.216375</td>\n",
       "    </tr>\n",
       "    <tr>\n",
       "      <th>rating</th>\n",
       "      <td>0.195327</td>\n",
       "      <td>0.057582</td>\n",
       "      <td>0.216375</td>\n",
       "      <td>1.000000</td>\n",
       "    </tr>\n",
       "  </tbody>\n",
       "</table>\n",
       "</div>"
      ],
      "text/plain": [
       "              polarity  subjectivity  compound    rating\n",
       "polarity      1.000000      0.586285  0.683865  0.195327\n",
       "subjectivity  0.586285      1.000000  0.501763  0.057582\n",
       "compound      0.683865      0.501763  1.000000  0.216375\n",
       "rating        0.195327      0.057582  0.216375  1.000000"
      ]
     },
     "execution_count": 25,
     "metadata": {},
     "output_type": "execute_result"
    }
   ],
   "source": [
    "# add these findings to the dataset and relate them to rating.\n",
    "df_sent['polarity'] = [TextBlob(s, analyzer=PatternAnalyzer()).sentiment[0] for s in df_sent.sentence]\n",
    "df_sent['subjectivity'] = [TextBlob(s, analyzer=PatternAnalyzer()).sentiment[1] for s in df_sent.sentence]\n",
    "df_sent['compound'] = [vader.polarity_scores(s)['compound'] for s in df_sent.sentence]\n",
    "df_sent['rating'] = df_sent.rating.astype('int64')\n",
    "df_sent[['polarity','subjectivity','compound','rating']].corr(method='pearson') # .195"
   ]
  },
  {
   "cell_type": "markdown",
   "metadata": {},
   "source": [
    "Once you've got the sentiment per sentence, you could create a sentiment per review (document). Taking the mean across sentences within a review could be useful if reviews only contain negative or only positive sentences. However, if the review is mixed you will wrongly conclude that the review is neutral. To take this into account, you could create a measure based on variance. The more variance in sentiment a review contains, the lower the correlation between sentiment and rating. This way, you can correct for the reviews with mixed messages."
   ]
  },
  {
   "cell_type": "code",
   "execution_count": 26,
   "metadata": {},
   "outputs": [
    {
     "data": {
      "text/html": [
       "<div>\n",
       "<style scoped>\n",
       "    .dataframe tbody tr th:only-of-type {\n",
       "        vertical-align: middle;\n",
       "    }\n",
       "\n",
       "    .dataframe tbody tr th {\n",
       "        vertical-align: top;\n",
       "    }\n",
       "\n",
       "    .dataframe thead th {\n",
       "        text-align: right;\n",
       "    }\n",
       "</style>\n",
       "<table border=\"1\" class=\"dataframe\">\n",
       "  <thead>\n",
       "    <tr style=\"text-align: right;\">\n",
       "      <th></th>\n",
       "      <th>polarity_mean</th>\n",
       "      <th>subjectivity_mean</th>\n",
       "      <th>polarity_var</th>\n",
       "      <th>subjectivity_var</th>\n",
       "      <th>compound_mean</th>\n",
       "      <th>compound_var</th>\n",
       "      <th>rating</th>\n",
       "    </tr>\n",
       "  </thead>\n",
       "  <tbody>\n",
       "    <tr>\n",
       "      <th>polarity_mean</th>\n",
       "      <td>1.000000</td>\n",
       "      <td>0.588300</td>\n",
       "      <td>0.202276</td>\n",
       "      <td>-0.031867</td>\n",
       "      <td>0.673767</td>\n",
       "      <td>-0.026095</td>\n",
       "      <td>0.286109</td>\n",
       "    </tr>\n",
       "    <tr>\n",
       "      <th>subjectivity_mean</th>\n",
       "      <td>0.588300</td>\n",
       "      <td>1.000000</td>\n",
       "      <td>0.235507</td>\n",
       "      <td>0.013681</td>\n",
       "      <td>0.512301</td>\n",
       "      <td>0.024136</td>\n",
       "      <td>0.089925</td>\n",
       "    </tr>\n",
       "    <tr>\n",
       "      <th>polarity_var</th>\n",
       "      <td>0.202276</td>\n",
       "      <td>0.235507</td>\n",
       "      <td>1.000000</td>\n",
       "      <td>0.347621</td>\n",
       "      <td>0.071258</td>\n",
       "      <td>0.310441</td>\n",
       "      <td>0.017748</td>\n",
       "    </tr>\n",
       "    <tr>\n",
       "      <th>subjectivity_var</th>\n",
       "      <td>-0.031867</td>\n",
       "      <td>0.013681</td>\n",
       "      <td>0.347621</td>\n",
       "      <td>1.000000</td>\n",
       "      <td>-0.082701</td>\n",
       "      <td>0.205515</td>\n",
       "      <td>0.019019</td>\n",
       "    </tr>\n",
       "    <tr>\n",
       "      <th>compound_mean</th>\n",
       "      <td>0.673767</td>\n",
       "      <td>0.512301</td>\n",
       "      <td>0.071258</td>\n",
       "      <td>-0.082701</td>\n",
       "      <td>1.000000</td>\n",
       "      <td>-0.065602</td>\n",
       "      <td>0.309582</td>\n",
       "    </tr>\n",
       "    <tr>\n",
       "      <th>compound_var</th>\n",
       "      <td>-0.026095</td>\n",
       "      <td>0.024136</td>\n",
       "      <td>0.310441</td>\n",
       "      <td>0.205515</td>\n",
       "      <td>-0.065602</td>\n",
       "      <td>1.000000</td>\n",
       "      <td>0.017976</td>\n",
       "    </tr>\n",
       "    <tr>\n",
       "      <th>rating</th>\n",
       "      <td>0.286109</td>\n",
       "      <td>0.089925</td>\n",
       "      <td>0.017748</td>\n",
       "      <td>0.019019</td>\n",
       "      <td>0.309582</td>\n",
       "      <td>0.017976</td>\n",
       "      <td>1.000000</td>\n",
       "    </tr>\n",
       "  </tbody>\n",
       "</table>\n",
       "</div>"
      ],
      "text/plain": [
       "                   polarity_mean  subjectivity_mean  polarity_var  \\\n",
       "polarity_mean           1.000000           0.588300      0.202276   \n",
       "subjectivity_mean       0.588300           1.000000      0.235507   \n",
       "polarity_var            0.202276           0.235507      1.000000   \n",
       "subjectivity_var       -0.031867           0.013681      0.347621   \n",
       "compound_mean           0.673767           0.512301      0.071258   \n",
       "compound_var           -0.026095           0.024136      0.310441   \n",
       "rating                  0.286109           0.089925      0.017748   \n",
       "\n",
       "                   subjectivity_var  compound_mean  compound_var    rating  \n",
       "polarity_mean             -0.031867       0.673767     -0.026095  0.286109  \n",
       "subjectivity_mean          0.013681       0.512301      0.024136  0.089925  \n",
       "polarity_var               0.347621       0.071258      0.310441  0.017748  \n",
       "subjectivity_var           1.000000      -0.082701      0.205515  0.019019  \n",
       "compound_mean             -0.082701       1.000000     -0.065602  0.309582  \n",
       "compound_var               0.205515      -0.065602      1.000000  0.017976  \n",
       "rating                     0.019019       0.309582      0.017976  1.000000  "
      ]
     },
     "execution_count": 26,
     "metadata": {},
     "output_type": "execute_result"
    }
   ],
   "source": [
    "df_rev = pd.DataFrame()\n",
    "df_rev['rating'] = df_sent.groupby(['reviewid']).rating.mean()\n",
    "df_rev['length'] = df_sent.groupby(['reviewid']).sentence.count()\n",
    "df_rev['polarity_mean'] = df_sent.groupby(['reviewid']).polarity.mean()\n",
    "df_rev['polarity_var'] = df_sent.groupby(['reviewid']).polarity.var()\n",
    "df_rev['subjectivity_mean'] = df_sent.groupby(['reviewid']).subjectivity.mean()\n",
    "df_rev['subjectivity_var'] = df_sent.groupby(['reviewid']).subjectivity.var()\n",
    "df_rev['compound_mean'] = df_sent.groupby(['reviewid']).compound.mean()\n",
    "df_rev['compound_var'] = df_sent.groupby(['reviewid']).compound.var()\n",
    "df_rev[['polarity_mean','subjectivity_mean','polarity_var','subjectivity_var','compound_mean','compound_var','rating']].corr(method='pearson') # .195"
   ]
  },
  {
   "cell_type": "markdown",
   "metadata": {},
   "source": [
    "As you can see above, the rating is more highly related to the polarity averaged across the review, than per sentence. This makes sense, as the rating is a review-level variable. However, variance does not seem to play a role in rating, which may suggest that most reviews either contain negative or positive sentences. Similarly, the subjectivity score does not relate with rating, which makes sense, because both negative and positive statements may be very subjective. Compound score calculated by Vader has the highest overlap with rating, which is also found here: https://towardsdatascience.com/fine-grained-sentiment-analysis-in-python-part-1-2697bb111ed4"
   ]
  },
  {
   "cell_type": "markdown",
   "metadata": {},
   "source": [
    "---"
   ]
  },
  {
   "cell_type": "markdown",
   "metadata": {},
   "source": [
    "## Prediction\n",
    "To see how successful the prediction is, you can use a confusion matrix. This matrix matches the predicted labels with the true labels. First, categorize the scores calculated by TextBlob and Vader to match with the rating (which is the true label). "
   ]
  },
  {
   "cell_type": "code",
   "execution_count": 27,
   "metadata": {},
   "outputs": [],
   "source": [
    "df_rev['pred_blob'] = pd.cut(df_rev['polarity_mean'], bins=5, labels=[1, 2, 3, 4, 5])\n",
    "df_rev['pred_vader'] = pd.cut(df_rev['compound_mean'], bins=5, labels=[1, 2, 3, 4, 5])"
   ]
  },
  {
   "cell_type": "code",
   "execution_count": 28,
   "metadata": {},
   "outputs": [
    {
     "data": {
      "text/plain": [
       "<matplotlib.axes._subplots.AxesSubplot at 0x15c3117ca88>"
      ]
     },
     "execution_count": 28,
     "metadata": {},
     "output_type": "execute_result"
    },
    {
     "data": {
      "image/png": "[encoded data removed]",
      "text/plain": [
       "<Figure size 432x288 with 2 Axes>"
      ]
     },
     "metadata": {
      "needs_background": "light"
     },
     "output_type": "display_data"
    }
   ],
   "source": [
    "from sklearn.metrics import confusion_matrix\n",
    "import numpy as np\n",
    "import seaborn as sn\n",
    "\n",
    "cf_matrix = pd.DataFrame(confusion_matrix(df_rev['rating'],df_rev['pred_vader']), \n",
    "                         index = [i for i in range(1,6)], columns = [i for i in range(1,6)])\n",
    "sn.heatmap(cf_matrix/np.sum(cf_matrix), annot=True, \n",
    "            fmt='.1%', cmap='Reds')"
   ]
  },
  {
   "cell_type": "markdown",
   "metadata": {},
   "source": [
    "So far, we have used rule-based methods to predict rating. However, another class of methods are feature-based. "
   ]
  },
  {
   "cell_type": "code",
   "execution_count": 29,
   "metadata": {},
   "outputs": [],
   "source": [
    "# adjusted from https://towardsdatascience.com/fine-grained-sentiment-analysis-in-python-part-1-2697bb111ed4\n",
    "import pandas as pd\n",
    "from sklearn.metrics import f1_score, accuracy_score\n",
    "\n",
    "class LogisticRegressionSentiment():\n",
    "    \"\"\"Predict fine-grained sentiment scores using a sklearn Logistic Regression pipeline.\"\"\"\n",
    "    def __init__(self, model_file: str=None) -> None:\n",
    "        super().__init__()\n",
    "        from sklearn.feature_extraction.text import CountVectorizer, TfidfTransformer\n",
    "        from sklearn.linear_model import LogisticRegression\n",
    "        from sklearn.pipeline import Pipeline\n",
    "        self.pipeline = Pipeline(\n",
    "            [\n",
    "                ('vect', CountVectorizer()),\n",
    "                ('tfidf', TfidfTransformer()),\n",
    "                ('clf', LogisticRegression(solver='liblinear', multi_class='auto')),\n",
    "            ]\n",
    "        )\n",
    "        \n",
    "    def predict(self, train_file: str, test_file: str, lower_case: bool=False) -> pd.DataFrame:\n",
    "        \"Train model using sklearn pipeline\"\n",
    "        train_df = train_file[['text','truth']]\n",
    "        learner = self.pipeline.fit(train_df['text'].str.lower(), train_df['truth'].astype(int))\n",
    "        # Predict class labels using the learner and output DataFrame\n",
    "        test_df = test_file[['text','truth']]\n",
    "        test_df['pred'] = learner.predict(test_df['text'].str.lower())\n",
    "        return test_df"
   ]
  },
  {
   "cell_type": "code",
   "execution_count": 30,
   "metadata": {},
   "outputs": [
    {
     "name": "stderr",
     "output_type": "stream",
     "text": [
      "C:\\Users\\MP\\anaconda3\\lib\\site-packages\\ipykernel_launcher.py:26: SettingWithCopyWarning: \n",
      "A value is trying to be set on a copy of a slice from a DataFrame.\n",
      "Try using .loc[row_indexer,col_indexer] = value instead\n",
      "\n",
      "See the caveats in the documentation: https://pandas.pydata.org/pandas-docs/stable/user_guide/indexing.html#returning-a-view-versus-a-copy\n"
     ]
    },
    {
     "data": {
      "text/html": [
       "<div>\n",
       "<style scoped>\n",
       "    .dataframe tbody tr th:only-of-type {\n",
       "        vertical-align: middle;\n",
       "    }\n",
       "\n",
       "    .dataframe tbody tr th {\n",
       "        vertical-align: top;\n",
       "    }\n",
       "\n",
       "    .dataframe thead th {\n",
       "        text-align: right;\n",
       "    }\n",
       "</style>\n",
       "<table border=\"1\" class=\"dataframe\">\n",
       "  <thead>\n",
       "    <tr style=\"text-align: right;\">\n",
       "      <th></th>\n",
       "      <th>text</th>\n",
       "      <th>truth</th>\n",
       "      <th>pred</th>\n",
       "    </tr>\n",
       "  </thead>\n",
       "  <tbody>\n",
       "    <tr>\n",
       "      <th>6514</th>\n",
       "      <td>Excellent for 'gezellig  lunchen - delicious d...</td>\n",
       "      <td>5</td>\n",
       "      <td>5</td>\n",
       "    </tr>\n",
       "    <tr>\n",
       "      <th>3773</th>\n",
       "      <td>Take time and walk through every greenhouse</td>\n",
       "      <td>5</td>\n",
       "      <td>5</td>\n",
       "    </tr>\n",
       "    <tr>\n",
       "      <th>709</th>\n",
       "      <td>Our airbnb host said this is the best pizza in...</td>\n",
       "      <td>5</td>\n",
       "      <td>5</td>\n",
       "    </tr>\n",
       "    <tr>\n",
       "      <th>449</th>\n",
       "      <td>This tucked away restaurant in Amsterdam s cit...</td>\n",
       "      <td>5</td>\n",
       "      <td>5</td>\n",
       "    </tr>\n",
       "    <tr>\n",
       "      <th>103</th>\n",
       "      <td>I was hungry</td>\n",
       "      <td>5</td>\n",
       "      <td>5</td>\n",
       "    </tr>\n",
       "    <tr>\n",
       "      <th>...</th>\n",
       "      <td>...</td>\n",
       "      <td>...</td>\n",
       "      <td>...</td>\n",
       "    </tr>\n",
       "    <tr>\n",
       "      <th>1825</th>\n",
       "      <td>The Eggs Benedict was delicious - it was on ...</td>\n",
       "      <td>5</td>\n",
       "      <td>5</td>\n",
       "    </tr>\n",
       "    <tr>\n",
       "      <th>2195</th>\n",
       "      <td>The burger was yummy (15€ \\n Ambiance  nice  ...</td>\n",
       "      <td>5</td>\n",
       "      <td>5</td>\n",
       "    </tr>\n",
       "    <tr>\n",
       "      <th>1296</th>\n",
       "      <td>The food is creative and excellent</td>\n",
       "      <td>5</td>\n",
       "      <td>5</td>\n",
       "    </tr>\n",
       "    <tr>\n",
       "      <th>5570</th>\n",
       "      <td>it s so good</td>\n",
       "      <td>5</td>\n",
       "      <td>5</td>\n",
       "    </tr>\n",
       "    <tr>\n",
       "      <th>1746</th>\n",
       "      <td>The Mauritshuis is one of The Netherlands  pre...</td>\n",
       "      <td>5</td>\n",
       "      <td>5</td>\n",
       "    </tr>\n",
       "  </tbody>\n",
       "</table>\n",
       "<p>907 rows × 3 columns</p>\n",
       "</div>"
      ],
      "text/plain": [
       "                                                   text  truth  pred\n",
       "6514  Excellent for 'gezellig  lunchen - delicious d...      5     5\n",
       "3773        Take time and walk through every greenhouse      5     5\n",
       "709   Our airbnb host said this is the best pizza in...      5     5\n",
       "449   This tucked away restaurant in Amsterdam s cit...      5     5\n",
       "103                                        I was hungry      5     5\n",
       "...                                                 ...    ...   ...\n",
       "1825    The Eggs Benedict was delicious - it was on ...      5     5\n",
       "2195   The burger was yummy (15€ \\n Ambiance  nice  ...      5     5\n",
       "1296                 The food is creative and excellent      5     5\n",
       "5570                                       it s so good      5     5\n",
       "1746  The Mauritshuis is one of The Netherlands  pre...      5     5\n",
       "\n",
       "[907 rows x 3 columns]"
      ]
     },
     "execution_count": 30,
     "metadata": {},
     "output_type": "execute_result"
    }
   ],
   "source": [
    "# 70% is used to train, 30% of the data is used to test\n",
    "from sklearn.model_selection import train_test_split\n",
    "X = df_sent['sentence']\n",
    "y = df_sent['rating']\n",
    "X_train, X_test, y_train, y_test = train_test_split(X, y, test_size=0.30, random_state=42)\n",
    "train_file = pd.DataFrame({'truth': y_train, 'text': X_train})\n",
    "test_file = pd.DataFrame({'truth': y_test, 'text': X_test})\n",
    "logsentiment = LogisticRegressionSentiment()\n",
    "logsentiment.predict(train_file, test_file)"
   ]
  },
  {
   "cell_type": "code",
   "execution_count": 40,
   "metadata": {},
   "outputs": [
    {
     "name": "stderr",
     "output_type": "stream",
     "text": [
      "C:\\Users\\MP\\anaconda3\\lib\\site-packages\\ipykernel_launcher.py:26: SettingWithCopyWarning: \n",
      "A value is trying to be set on a copy of a slice from a DataFrame.\n",
      "Try using .loc[row_indexer,col_indexer] = value instead\n",
      "\n",
      "See the caveats in the documentation: https://pandas.pydata.org/pandas-docs/stable/user_guide/indexing.html#returning-a-view-versus-a-copy\n"
     ]
    },
    {
     "name": "stdout",
     "output_type": "stream",
     "text": [
      "Counter({5: 825, 4: 82})\n",
      "Counter({5: 538, 4: 264, 3: 66, 2: 21, 1: 18})\n"
     ]
    },
    {
     "name": "stderr",
     "output_type": "stream",
     "text": [
      "C:\\Users\\MP\\anaconda3\\lib\\site-packages\\ipykernel_launcher.py:26: SettingWithCopyWarning: \n",
      "A value is trying to be set on a copy of a slice from a DataFrame.\n",
      "Try using .loc[row_indexer,col_indexer] = value instead\n",
      "\n",
      "See the caveats in the documentation: https://pandas.pydata.org/pandas-docs/stable/user_guide/indexing.html#returning-a-view-versus-a-copy\n"
     ]
    }
   ],
   "source": [
    "print(Counter(logsentiment.predict(train_file, test_file).pred)) # 82 are predicted as 4 stars\n",
    "print(Counter(logsentiment.predict(train_file, test_file).truth)) # while in reality 264 have 4 stars"
   ]
  },
  {
   "cell_type": "markdown",
   "metadata": {},
   "source": [
    "As you can see, a logistic regression is inclined to assign all instances to a majority class (as this dataset is very unbalanced - many reviews with 5 stars). We have used a simple tf-idf approach to represent the sentences. However, in a similar way you could use Naive Bayes or Support Vector Machines to predict the ratings and use laplace smoothing as an input to the model. See below for an example on Laplace smoothing (by Laurence)."
   ]
  },
  {
   "cell_type": "code",
   "execution_count": 104,
   "metadata": {},
   "outputs": [
    {
     "name": "stderr",
     "output_type": "stream",
     "text": [
      "C:\\Users\\MP\\anaconda3\\lib\\site-packages\\ipykernel_launcher.py:26: SettingWithCopyWarning: \n",
      "A value is trying to be set on a copy of a slice from a DataFrame.\n",
      "Try using .loc[row_indexer,col_indexer] = value instead\n",
      "\n",
      "See the caveats in the documentation: https://pandas.pydata.org/pandas-docs/stable/user_guide/indexing.html#returning-a-view-versus-a-copy\n",
      "C:\\Users\\MP\\anaconda3\\lib\\site-packages\\ipykernel_launcher.py:26: SettingWithCopyWarning: \n",
      "A value is trying to be set on a copy of a slice from a DataFrame.\n",
      "Try using .loc[row_indexer,col_indexer] = value instead\n",
      "\n",
      "See the caveats in the documentation: https://pandas.pydata.org/pandas-docs/stable/user_guide/indexing.html#returning-a-view-versus-a-copy\n"
     ]
    },
    {
     "name": "stdout",
     "output_type": "stream",
     "text": [
      "Consider the three probability vectors: \n",
      " The data distribution; \n",
      " [0.026420079260237782, 0.028401585204755615, 0.07661822985468957, 0.28731836195508587, 0.5812417437252312] \n",
      " validation actual labels distribution; \n",
      " [0.020833333333333332, 0.02412280701754386, 0.07346491228070176, 0.2905701754385965, 0.5910087719298246] \n",
      " validation predicted labels distribution; \n",
      " [0.0010964912280701754, 0.0010964912280701754, 0.0010964912280701754, 0.09100877192982457, 0.9057017543859649].\n",
      "Which could be visualised as: \n",
      "   Data distribution  Truth distribution  Prediction distribution\n",
      "1           0.026420            0.020833                 0.001096\n",
      "2           0.028402            0.024123                 0.001096\n",
      "3           0.076618            0.073465                 0.001096\n",
      "4           0.287318            0.290570                 0.091009\n",
      "5           0.581242            0.591009                 0.905702\n"
     ]
    },
    {
     "data": {
      "image/png": "[encoded data removed]",
      "text/plain": [
       "<Figure size 1152x1152 with 3 Axes>"
      ]
     },
     "metadata": {
      "needs_background": "light"
     },
     "output_type": "display_data"
    }
   ],
   "source": [
    "# aquire vector where every column represents smoothed probability given the truth\n",
    "# aquire vector where every column represents smoothed probability given the predictions\n",
    "c_pred = Counter(logsentiment.predict(train_file, test_file).pred)\n",
    "c_truth = Counter(logsentiment.predict(train_file, test_file).truth)\n",
    "c_data = Counter(df_sent['rating'])\n",
    "\n",
    "pred_vector = [(c_pred[x] + 1)/(sum(c_pred.values()) + 5) for x in range(1,6)]\n",
    "truth_vector = [(c_truth[x] + 1)/(sum(c_truth.values()) + 5) for x in range(1,6)]\n",
    "data_vector = [(c_data[x] + 1)/(sum(c_data.values()) + 5) for x in range(1,6)]\n",
    "\n",
    "print(f\"Consider the three probability vectors: \\n The data distribution; \\n {data_vector} \\n validation actual labels distribution; \\n {truth_vector} \\n validation predicted labels distribution; \\n {pred_vector}.\")\n",
    "print(\"Which could be visualised as: \")\n",
    "\n",
    "df = pd.DataFrame(data = [data_vector, truth_vector, pred_vector], columns = ['1', '2', '3', '4', '5'], \n",
    "                  index = [\"Data distribution\", \"Truth distribution\", \"Prediction distribution\"]).T\n",
    "print(df)\n",
    "\n",
    "import matplotlib.pyplot as plt\n",
    "fig, axes = plt.subplots(nrows=3, ncols=1, figsize=(16,16))\n",
    "df[\"Data distribution\"].plot(ax=axes[0], kind='bar', grid=True, title = \"Data distribution\")\n",
    "df[\"Truth distribution\"].plot(ax=axes[1], kind='bar', grid=True, title = \"Truth distribution\",)\n",
    "df[\"Prediction distribution\"].plot(ax=axes[2], kind='bar', grid=True, title = \"Prediction distribution\")\n",
    "\n",
    "fig.tight_layout()"
   ]
  },
  {
   "cell_type": "markdown",
   "metadata": {},
   "source": [
    "We can clearly see that the data distribution and the truth distribution are very similair which makes sense since the truth distribution essentially is a sub set drawn from the real data. However, the prediction distribution is skewed towards the right and essentially has no data points for the first three categories, the only reason they have some value is due to the smoothing to ensure mathematical stability."
   ]
  },
  {
   "cell_type": "markdown",
   "metadata": {},
   "source": [
    "---"
   ]
  },
  {
   "cell_type": "markdown",
   "metadata": {},
   "source": [
    "## Cross-entropy\n",
    "To evaluate your model cross entropy is able to compare various probability distributions. The cross-entropy quantifies how similar two distributions are. The entropy can also be calculated of one distribution, in that case, entropy quantifies the uncertainty involved when encountering a random variable. \n",
    "\\begin{equation*}\n",
    "     H({\\tilde{p}},q)=-\\sum_{i=1}^{N}{\\tilde {p}}(x)\\log _{2}q(x_{i}) \n",
    "\\end{equation*}\n",
    "Cross-entropy builds upon the idea of entropy from information theory and calculates the number of bits required to represent or transmit an average event from one distribution compared to another distribution. It is simply the ratio of the entropy of two distributions: $H(P/Q)$ where $P$ might be the observed distribution and $Q$ the predicted distribution. The closer $H(P)$ is to $H(P/Q)$, the better $H(Q)$ is an approximation of $H(P)$.\n",
    "\n",
    "For a derivation of the cross-entropy in logistic regression, please see: https://peterroelants.github.io/posts/cross-entropy-logistic/"
   ]
  },
  {
   "cell_type": "code",
   "execution_count": 103,
   "metadata": {},
   "outputs": [
    {
     "name": "stdout",
     "output_type": "stream",
     "text": [
      "entropy: 1.540 bits\n",
      "entropy: 1.489 bits\n",
      "cross entropy: 0.967 bits\n"
     ]
    }
   ],
   "source": [
    "# calculate the entropy for the estimated probabilities\n",
    "from math import log2\n",
    "entropy_data = - sum([data_vector[i] * log2(data_vector[i]) for i in range(len(data_vector))])\n",
    "print('entropy: %.3f bits' % entropy_data)\n",
    "\n",
    "# calculate entropy for target probabilities\n",
    "entropy_target = - sum([truth_vector[i] * log2(truth_vector[i]) for i in range(len(truth_vector))])\n",
    "print('entropy: %.3f bits' % entropy_target)\n",
    "\n",
    "# calculate cross entropy\n",
    "cross_entropy = entropy_target/entropy_data\n",
    "print('cross entropy: %.3f bits' % cross_entropy)"
   ]
  },
  {
   "cell_type": "markdown",
   "metadata": {},
   "source": [
    "Note that we use the base of 2. If the base of the logarithm is e, the entropy is measured in nats. Unless otherwise specified, we will take all logarithms to base 2, and hence all the entropies will be measured in bits."
   ]
  },
  {
   "cell_type": "code",
   "execution_count": 107,
   "metadata": {},
   "outputs": [
    {
     "name": "stdout",
     "output_type": "stream",
     "text": [
      "1.5403397188137484\n",
      "The KL-divergence value between the data and the truth is 0.0017526649246738847 which is very close to 0\n",
      "Now consider the KL-divergence value between the data and the prediction: 0.8286530909355219 That's already a lot higher!\n"
     ]
    }
   ],
   "source": [
    "from scipy.stats import entropy\n",
    "print(entropy(data_vector, base=2))\n",
    "# When using the entropy function from scipy we compute the KL-divergence between the two given vectors\n",
    "# If qk is not None, then compute the Kullback-Leibler divergence S = sum(pk * log(pk / qk), axis=axis).\n",
    "print(f\"The KL-divergence value between the data and the truth is {entropy(data_vector, truth_vector, base=2)} which is very close to 0\")\n",
    "print(f\"Now consider the KL-divergence value between the data and the prediction: {entropy(data_vector, pred_vector, base=2)} That's already a lot higher!\")"
   ]
  },
  {
   "cell_type": "markdown",
   "metadata": {},
   "source": [
    "This all makes sense as we expect the first KL-divergence to be closer to 0 while the latter KL-divergence value is expected to have a significantly higher value compared to the first value. KL-divergence values are best used relatively or in a comparison. Concluding; two vectors are very similair (value close to 0) or definitely not (further away from 0). We note that the prediction vector is not as similair to the real data as the truth vector, we can thus conclude that our model is not making predictions according to the distribution of the data."
   ]
  },
  {
   "cell_type": "markdown",
   "metadata": {},
   "source": [
    "---"
   ]
  },
  {
   "cell_type": "markdown",
   "metadata": {},
   "source": [
    "Entropy is a measure of information on a distribution. However, words in sequence can also be regarded as an outcome of a distribution. The language in this case determines the distribution. This means that you can use the probabilities found for certain words in the vocabulary to calculate the entropy of a sentence. If a language is thought of as a stochastic process that produces\n",
    " a sequence of words, its entropy rate is defined as (Jurasfky and Martin, 2009):\n",
    " \n",
    "\\begin{equation*}\n",
    "\\begin{aligned}\n",
    "    H(w_{1}w_{2}...w_{n}) & = -\\sum_{ w_{1}...w_{n}} {P}{w_{1}...w_{n}}\\log _{2}{P}(w_{n}\\vert w_{1}...w_{n-1}) \\\\\n",
    "    & =-\\sum_{ w_{1}...w_{n}} {P}{w_{1}...w_{n}}\\log _{2}{P}(w_{1}...w_{n}) \\\\ \n",
    "    & + \\sum_{w_{1}...w_{n-1}} {P}{w_{1}...w_{n-1}}\\log _{2}{P}(w_{1}...w_{n-1}) \n",
    "\\end{aligned}\n",
    "\\end{equation*}\n",
    "\n",
    "The assumption underlying entropy is an infinite possibilities of distributions. To measure the true entropy of a language (i.e. vocabulary) we need to consider sequences of infinite length. In other words, to get the true probabilities of words in sequences given the language contains many uncertainties."
   ]
  },
  {
   "cell_type": "markdown",
   "metadata": {},
   "source": [
    "## Next notebook\n",
    "So far we have illustrated how text analysis evolved from linguistic rules, to counting frequencies to more advanced modeling approaches. The downside of all these approaches is that the ordering of words is most often ignored. An alternative method that do measure linguistic meaning captured in the ordering of words within a document or sentence are embeddings. This will be discussed in week 4."
   ]
  },
  {
   "cell_type": "markdown",
   "metadata": {},
   "source": [
    "---"
   ]
  }
 ],
 "metadata": {
  "kernelspec": {
   "display_name": "Python 3",
   "language": "python",
   "name": "python3"
  },
  "language_info": {
   "codemirror_mode": {
    "name": "ipython",
    "version": 3
   },
   "file_extension": ".py",
   "mimetype": "text/x-python",
   "name": "python",
   "nbconvert_exporter": "python",
   "pygments_lexer": "ipython3",
   "version": "3.7.6"
  }
 },
 "nbformat": 4,
 "nbformat_minor": 2
}
